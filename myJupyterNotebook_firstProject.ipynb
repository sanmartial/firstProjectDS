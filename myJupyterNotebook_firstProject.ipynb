{
 "cells": [
  {
   "cell_type": "markdown",
   "id": "26cca6a8-1bc7-4e1d-aaf2-18c287a7500a",
   "metadata": {},
   "source": [
    "# My first project"
   ]
  },
  {
   "cell_type": "markdown",
   "id": "7ae91023-3df4-4d49-b656-3b475290d9ae",
   "metadata": {},
   "source": [
    "## Introduction\n",
    "This notebook contains data science examples and exercises."
   ]
  },
  {
   "cell_type": "markdown",
   "id": "af22534b-059f-41e4-a22c-0d1111a5fb32",
   "metadata": {},
   "source": [
    "## Programming languages ​​for data science\n",
    "- Python\n",
    "- R\n",
    "- SQL\n",
    "- Julia\n",
    "- Java"
   ]
  },
  {
   "cell_type": "markdown",
   "id": "5888995f-8dd3-4dca-bba9-7bf781662c8c",
   "metadata": {},
   "source": [
    "## Libraries for data science\n",
    "- Pandas\n",
    "- NumPy\n",
    "- Matplotlib\n",
    "- SciPy\n",
    "- Scikit-learn"
   ]
  },
  {
   "cell_type": "markdown",
   "id": "e3f7922b-40ee-4f87-b970-81789bc8aeff",
   "metadata": {},
   "source": [
    "## Tools for data science"
   ]
  },
  {
   "cell_type": "markdown",
   "id": "abbeaa0f-33e6-4a15-b79a-ec38e90104b8",
   "metadata": {},
   "source": [
    "\n",
    "| Tool             | Description                                      |\n",
    "|------------------|--------------------------------------------- ----|\n",
    "| Jupyter Notebook | An interactive environment for working with code |\n",
    "| RStudio          | IDE for the R language                           |\n",
    "| Apache Spark     | Platform for data processing                     |\n",
    "| TensorFlow       | Machine Learning Library                         |\n",
    "| Tableau          | Data visualization tool                          |"
   ]
  },
  {
   "cell_type": "markdown",
   "id": "6c93648f-1f22-4c1b-a02e-f56fd90c41cf",
   "metadata": {},
   "source": [
    "## Examples of arithmetic expressions\n",
    "Below are examples of adding and multiplying numbers."
   ]
  },
  {
   "cell_type": "code",
   "execution_count": 4,
   "id": "e534dc8b-6d48-460c-bb0e-da2fe6313a5c",
   "metadata": {},
   "outputs": [
    {
     "data": {
      "text/plain": [
       "8"
      ]
     },
     "execution_count": 4,
     "metadata": {},
     "output_type": "execute_result"
    }
   ],
   "source": [
    "a = 5\n",
    "b = 3\n",
    "addition = a + b\n",
    "addition"
   ]
  },
  {
   "cell_type": "code",
   "execution_count": 3,
   "id": "0757e3c7-4257-4e1a-a793-f96118ad880d",
   "metadata": {},
   "outputs": [
    {
     "data": {
      "text/plain": [
       "15"
      ]
     },
     "execution_count": 3,
     "metadata": {},
     "output_type": "execute_result"
    }
   ],
   "source": [
    "a = 5\n",
    "b = 3\n",
    "multiplication = a * b\n",
    "multiplication"
   ]
  },
  {
   "cell_type": "markdown",
   "id": "29e03a9d-1a80-4336-8da7-cabebc7540a4",
   "metadata": {},
   "source": [
    "# Convert minutes to hours"
   ]
  },
  {
   "cell_type": "code",
   "execution_count": 1,
   "id": "712b9f18-ea02-4ebe-b015-5db104d7f9b9",
   "metadata": {},
   "outputs": [
    {
     "data": {
      "text/plain": [
       "2.0"
      ]
     },
     "execution_count": 1,
     "metadata": {},
     "output_type": "execute_result"
    }
   ],
   "source": [
    "minutes = 120\n",
    "hours = minutes / 60\n",
    "hours"
   ]
  },
  {
   "cell_type": "markdown",
   "id": "76cb482d-ba26-4221-8cd6-e77d71eb6aaa",
   "metadata": {},
   "source": [
    "## Objectives\n",
    "- Learn how to create Jupyter notebooks\n",
    "- Use Markdown for documentation\n",
    "- Perform basic arithmetic operations in Python"
   ]
  },
  {
   "cell_type": "markdown",
   "id": "7246f285-5cf3-48a1-955c-100964deb8f5",
   "metadata": {},
   "source": [
    "## Author\n",
    "Roman Hloba"
   ]
  },
  {
   "cell_type": "code",
   "execution_count": null,
   "id": "adb87029-7bb8-4d15-9a3e-4b64ff44cc9f",
   "metadata": {},
   "outputs": [],
   "source": []
  }
 ],
 "metadata": {
  "kernelspec": {
   "display_name": "Python 3 (ipykernel)",
   "language": "python",
   "name": "python3"
  },
  "language_info": {
   "codemirror_mode": {
    "name": "ipython",
    "version": 3
   },
   "file_extension": ".py",
   "mimetype": "text/x-python",
   "name": "python",
   "nbconvert_exporter": "python",
   "pygments_lexer": "ipython3",
   "version": "3.12.4"
  }
 },
 "nbformat": 4,
 "nbformat_minor": 5
}
